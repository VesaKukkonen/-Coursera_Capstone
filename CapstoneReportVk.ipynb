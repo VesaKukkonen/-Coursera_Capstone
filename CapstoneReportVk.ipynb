{
    "nbformat_minor": 1, 
    "cells": [
        {
            "source": "The Battle of Neighborhoods: \nThe Vegetarian Restaurant nearby the University Campus\n\nIntroduction & Business Problem :\n\nUniversity students are very well known of their healthness, so they very often choose restaurant where is able to get good and valuable vegan food.\nI want to analyze needs of vegetarian restaurant in the university campus area.\n\nThe Boston area has quite lots of large universities with students who are capable customers for such of business like which offer the Vegetarian food. This also means that the market is highly competitive. As it is highly developed city so cost of doing business is also one of the highest. Restaurant business venture needs to be analyzed well. The insights derived from analysis will give good understanding of the business environment which help in stratetgigally targeting the market. This will help in reduction of risk. The return on investment is reasonable.\n\nA restaurant is a business which prepares and serves food and drink to customers in return for money, either paid before the meal, after the meal, or with an open account. The Boston area have lots of critically thinking customers. Vegetarian food culture should includes several of international cuisines.\n\nSo it is evident that to survive in such competitive market it is very important to startegically plan. Various factors need to be studied inorder to decide on the Location such as :\n\n-Boston Population\n-Are there any venues like Gyms, Entertainmnet zones, Parks etc nearby.\n-The competitors in that location?\n-Segmentation of the Borough\n\nThe Vegetarian Restaurant need to choose the correct location to start its first venture. If this is successful they can replicate the same in other locations.\n\nThe objective is to locate and recommend to The Vegetarian Restaurant which neighborhood of Boston area will be best choice to start a restaurant. The Vegetarian Restaurant manager expects to understand the rationale of the recommendations.\n\nThe success criteria of the project will be a good recommendation of Neighborhood choice to any business based on lack of such business in that location, customers and nearest suppliers.\nThis would be interest anyone who wants to start a new restaurant anywhere.\n\nGeonames will be used to obtain necessary data for the neighborhood and geographic coordinates in Boston. This offers possibility of downloading the data into usable format and import a CSV with the necessary dataset.\nFoursquare will be used to explore venue data to target recommended locations for the business venture.\nBy merging the data from Geonames and Foursquare I am able to find where starting the Vegetarian restaurant would be most profitable.", 
            "cell_type": "markdown", 
            "metadata": {
                "collapsed": true
            }
        }
    ], 
    "metadata": {
        "kernelspec": {
            "display_name": "Python 3.6", 
            "name": "python3", 
            "language": "python"
        }, 
        "language_info": {
            "mimetype": "text/x-python", 
            "nbconvert_exporter": "python", 
            "version": "3.6.8", 
            "name": "python", 
            "file_extension": ".py", 
            "pygments_lexer": "ipython3", 
            "codemirror_mode": {
                "version": 3, 
                "name": "ipython"
            }
        }
    }, 
    "nbformat": 4
}