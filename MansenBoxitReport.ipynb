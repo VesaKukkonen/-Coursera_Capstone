{
    "nbformat_minor": 1, 
    "cells": [
        {
            "source": "# Find best area to find small apartment for investment purpose in Tampere, Finland", 
            "cell_type": "markdown", 
            "metadata": {
                "collapsed": true
            }
        }, 
        {
            "source": "Battle of Neighborhoods\n1. Introduction Section : \n[Discussion of the business problem and the audience who would be interested in this project.] \nScenario: \nI am data scientist in Finland. I currently live within short distance to Tampere. I have offer to work with data scientic problem and I want to use this opportunity to practice my learnings in Coursera in My customer needs to know how can find a convenient and enjoyable place to buy good investment in apartment. I can use available real estate apps and Google but the idea is to use and apply myself the learned tools during the course. In order to make a comparison and evaluation of the rental options in Tampere, I must set some basis, therefore the apartment in Tampere must meet the following demands:\n    1. apartment must be quite small, 1 bedrooms \n    2. desired location is near a local tranportation in the Tampere area and within 1.0 km radius \n    3. How apartments selling prices are progressed after year 2010. \n    4. How neighborhood areas are located in the Tampere. \nBusiness Problem: \nThe challenge is to find a suitable apartment to buy as investment for renting in Tampere that complies with the demands on location and price. The data required to resolve this challenge is described in the following sections\nInterested Audience: \nI believe this is a relevant challenge with valid questions for anyone moving to other large city or want to invest their wealth. The same methodology can be applied in accordance to demands as applicable. This case is also applicable for anyone interested in exploring starting or locating a new business in any city. Lastly, it can also serve as a good practical exercise to develop Data Science skills.\n2. Data Section: \nDescription of the data and its sources that will be used to solve the problem- \nDescription of the Data: \nThe following data is required to answer the issues of the problem:\n    \u2022 List of neighborhoods of Tampere with their geodata (latitud and longitud) \n    \u2022 List of apartments to sold in Tampere area with their addresses and price \n    \u2022 List of apartment for sale with additional information, such as price, address, area, # of beds, etc \n    \u2022 Venues for each Tampere neighborhoods\n       \nHow the data will be used to solve the problem: \nThe data will be used as follows:\n    \u2022 Foursquare and geopy data to map (top 10 venues) for all Tampere neighborhoods. \n    \u2022 foursquare and geopy data to map the location of bus stops. \n    \u2022 Foursquare and geopy data to map the location of rental places. \n    \u2022 Data will be searched in open data sources if available, from real estate sites if open to reading, libraries or other government agencies such as Tilastokeskus, etc. \nThe procesing of these DATA will allow to answer the key questions to make a decision:\n    \u2022 what is selling price (per square meter) around a neighbourhood.\n    \u2022 what is the area of Tampere with best value of investment that meets criteria established? \n    \u2022 What is the distance available from work places and the tentative future home? \n    \u2022 What are the venues of the two best places to live? How the prices compare? \n    \u2022 How venues distribute among Tampere neighborhoods and around train stations? \n    \u2022 Any other interesting statistical data findings of the real estate and overall data. \n", 
            "cell_type": "markdown", 
            "metadata": {}
        }
    ], 
    "metadata": {
        "kernelspec": {
            "display_name": "Python 3.6", 
            "name": "python3", 
            "language": "python"
        }, 
        "language_info": {
            "mimetype": "text/x-python", 
            "nbconvert_exporter": "python", 
            "version": "3.6.8", 
            "name": "python", 
            "file_extension": ".py", 
            "pygments_lexer": "ipython3", 
            "codemirror_mode": {
                "version": 3, 
                "name": "ipython"
            }
        }
    }, 
    "nbformat": 4
}